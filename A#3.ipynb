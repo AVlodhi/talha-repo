{
 "cells": [
  {
   "cell_type": "code",
   "execution_count": 1,
   "id": "7d10a992",
   "metadata": {},
   "outputs": [
    {
     "name": "stdout",
     "output_type": "stream",
     "text": [
      "Twinkle, twinkle, little star, \n",
      "\tHow I wonder what you are! \n",
      "\t\tUp above the world so high, \n",
      "\t\tLike a diamond in the sky. \n",
      "Twinkle, twinkle, little star, \n",
      "\tHow I wonder what you are!\n"
     ]
    }
   ],
   "source": [
    "print(\"Twinkle, twinkle, little star, \\n\\tHow I wonder what you are! \\n\\t\\tUp above the world so high, \\n\\t\\tLike a diamond in the sky. \\nTwinkle, twinkle, little star, \\n\\tHow I wonder what you are!\")\n"
   ]
  },
  {
   "cell_type": "code",
   "execution_count": 2,
   "id": "0880c584",
   "metadata": {},
   "outputs": [
    {
     "name": "stdout",
     "output_type": "stream",
     "text": [
      "3.8.8 (default, Apr 13 2021, 15:08:03) [MSC v.1916 64 bit (AMD64)]\n"
     ]
    }
   ],
   "source": [
    "import sys\n",
    "print(sys.version)"
   ]
  },
  {
   "cell_type": "code",
   "execution_count": 3,
   "id": "08cd2363",
   "metadata": {},
   "outputs": [
    {
     "name": "stdout",
     "output_type": "stream",
     "text": [
      "Current date and time : \n",
      "2021-10-24 18:06:56\n"
     ]
    }
   ],
   "source": [
    "import datetime\n",
    "now = datetime.datetime.now()\n",
    "print (\"Current date and time : \")\n",
    "print (now.strftime(\"%Y-%m-%d %H:%M:%S\"))"
   ]
  },
  {
   "cell_type": "code",
   "execution_count": 4,
   "id": "ce7dbcf0",
   "metadata": {},
   "outputs": [
    {
     "name": "stdout",
     "output_type": "stream",
     "text": [
      "Input the radius of the circle : 160\n",
      "The area of the circle with radius 160.0 is: 80424.77193189871\n"
     ]
    }
   ],
   "source": [
    "from math import pi\n",
    "r = float(input (\"Input the radius of the circle : \"))\n",
    "print (\"The area of the circle with radius \" + str(r) + \" is: \" + str(pi * r**2))"
   ]
  },
  {
   "cell_type": "code",
   "execution_count": 5,
   "id": "2fa11bc8",
   "metadata": {},
   "outputs": [
    {
     "name": "stdout",
     "output_type": "stream",
     "text": [
      "Input your First Name :TalhaLodhi\n",
      "Input your Last Name :Lodhi Talha\n",
      "Hello  Talha Lodhi\n"
     ]
    }
   ],
   "source": [
    "fname = input(\"Input your First Name :Talha \")\n",
    "lname = input(\"Input your Last Name :Lodhi \")\n",
    "print (\"Hello  \" + lname + \" \" + fname)"
   ]
  },
  {
   "cell_type": "code",
   "execution_count": 6,
   "id": "ccde4dc7",
   "metadata": {},
   "outputs": [
    {
     "name": "stdout",
     "output_type": "stream",
     "text": [
      "enter first number: 3\n",
      "enter second number: 6\n",
      "sum: 9\n"
     ]
    }
   ],
   "source": [
    "a = int(input(\"enter first number: \"))\n",
    "b = int(input(\"enter second number: \"))\n",
    "\n",
    "sum = a + b\n",
    "\n",
    "print(\"sum:\", sum)"
   ]
  },
  {
   "cell_type": "code",
   "execution_count": 7,
   "id": "93bc11fa",
   "metadata": {},
   "outputs": [
    {
     "name": "stdout",
     "output_type": "stream",
     "text": [
      "Total Marks Obtained = 263 out of 300\n",
      "percentage = 87.66666666666667\n",
      "Total Marks Obatined = 263 out of 300\n",
      "percentage = 87.66666666666667\n",
      "Grade A+\n"
     ]
    }
   ],
   "source": [
    "maths_marks = 89\n",
    "eng_marks = 99\n",
    "isl_marks = 75\n",
    "total_marks = 300\n",
    "marks_obtained = maths_marks + eng_marks + isl_marks\n",
    "percentage = marks_obtained / total_marks * 100\n",
    "print(\"Total Marks Obtained =\", marks_obtained, \"out of 300\")\n",
    "print(\"percentage =\", percentage)\n",
    "print(\"Total Marks Obatined =\", marks_obtained, \"out of 300\")\n",
    "print(\"percentage =\", percentage)\n",
    "\n",
    "if (percentage > 80 and percentage < 100):\n",
    "    print(\"Grade A+\")\n",
    "elif(percentage > 70 and percentage < 80):\n",
    "    print(\"Grade A\")\n",
    "elif(percentage > 60 and percentage < 70):\n",
    "    print(\"Grade B\")\n",
    "elif(percentage > 50 and percentage < 60):\n",
    "    print(\"Grade C\")\n",
    "elif(percentage > 40 and percentage < 50):\n",
    "    print(\"Grade D\")\n",
    "elif(percentage > 30 and percentage < 40):\n",
    "    print(\"Failed\")"
   ]
  },
  {
   "cell_type": "code",
   "execution_count": 8,
   "id": "a6b8f04b",
   "metadata": {},
   "outputs": [
    {
     "name": "stdout",
     "output_type": "stream",
     "text": [
      "0, 28\n",
      "8 is Even\n"
     ]
    }
   ],
   "source": [
    "num = int(input(\"0, 2\"))\n",
    "if (num % 2) == 0:\n",
    "   print(\"{0} is Even\".format(num))\n",
    "else:\n",
    "   print(\"{0} is Odd\".format(num))"
   ]
  },
  {
   "cell_type": "code",
   "execution_count": 12,
   "id": "a9dc59ff",
   "metadata": {},
   "outputs": [
    {
     "name": "stdout",
     "output_type": "stream",
     "text": [
      "Length of the input string:\n",
      "5\n"
     ]
    }
   ],
   "source": [
    "inp_lst = ['Dani','hummu','AV','Zain','jafery']\n",
    "size = 0\n",
    "print(\"Length of the input string:\")\n",
    "for x in inp_lst:\n",
    "    size+=1\n",
    "print(size)"
   ]
  },
  {
   "cell_type": "code",
   "execution_count": 17,
   "id": "6e6cac4e",
   "metadata": {},
   "outputs": [
    {
     "name": "stdout",
     "output_type": "stream",
     "text": [
      "-5\n"
     ]
    }
   ],
   "source": [
    "def sum_list(items):\n",
    "    sum_numbers = 0\n",
    "    for x in items:\n",
    "        sum_numbers += x\n",
    "    return sum_numbers\n",
    "print(sum_list([1,2,-8]))"
   ]
  },
  {
   "cell_type": "code",
   "execution_count": 15,
   "id": "e95454a8",
   "metadata": {},
   "outputs": [
    {
     "name": "stdout",
     "output_type": "stream",
     "text": [
      "Largest element is: 199\n"
     ]
    }
   ],
   "source": [
    "list1 = [36, 60, 90, 130, 199]\n",
    "print(\"Largest element is:\", max(list1))"
   ]
  },
  {
   "cell_type": "code",
   "execution_count": 16,
   "id": "7f2953ab",
   "metadata": {},
   "outputs": [
    {
     "name": "stdout",
     "output_type": "stream",
     "text": [
      "[1, 6, 2, 4, 5, 8, 13, 18, 44, 45, 90]\n"
     ]
    }
   ],
   "source": [
    "a= [1, 6, 2, 4, 5, 8, 13, 18, 44, 45, 90]\n",
    "[i for i in a if i <5]\n",
    "print(a)"
   ]
  },
  {
   "cell_type": "code",
   "execution_count": null,
   "id": "21cb9e99",
   "metadata": {},
   "outputs": [],
   "source": []
  }
 ],
 "metadata": {
  "kernelspec": {
   "display_name": "Python 3",
   "language": "python",
   "name": "python3"
  }
 },
 "nbformat": 4,
 "nbformat_minor": 5
}
