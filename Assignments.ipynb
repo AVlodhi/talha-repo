{
 "cells": [
  {
   "cell_type": "code",
   "execution_count": 3,
   "id": "b8a5fa2d",
   "metadata": {
    "scrolled": true
   },
   "outputs": [
    {
     "name": "stdout",
     "output_type": "stream",
     "text": [
      "Talha Lodhi\n"
     ]
    }
   ],
   "source": [
    "print(\"Talha Lodhi\");"
   ]
  },
  {
   "cell_type": "code",
   "execution_count": 1,
   "id": "d20006be",
   "metadata": {},
   "outputs": [],
   "source": [
    "maths_marks = 77\n",
    "eng_marks = 88\n",
    "isl_marks = 76\n",
    "total_marks = 300\n",
    "marks_obtained = maths_marks + eng_marks + isl_marks\n",
    "percentage = marks_obtained / total_marks * 100"
   ]
  },
  {
   "cell_type": "code",
   "execution_count": 14,
   "id": "ed8054f1",
   "metadata": {},
   "outputs": [
    {
     "name": "stdout",
     "output_type": "stream",
     "text": [
      "Total Marks Obtained = 263 out of 300\n",
      "percentage = 87.66666666666667\n"
     ]
    }
   ],
   "source": [
    "print(\"Total Marks Obtained =\", marks_obtained, \"out of 300\")\n",
    "print(\"percentage =\", percentage)"
   ]
  },
  {
   "cell_type": "code",
   "execution_count": 2,
   "id": "0e62b79c",
   "metadata": {},
   "outputs": [
    {
     "name": "stdout",
     "output_type": "stream",
     "text": [
      "Total Marks Obatined = 241 out of 300\n",
      "percentage = 80.33333333333333\n",
      "Grade A+\n"
     ]
    }
   ],
   "source": [
    "print(\"Total Marks Obatined =\", marks_obtained, \"out of 300\")\n",
    "print(\"percentage =\", percentage)\n",
    "\n",
    "if (percentage > 80 and percentage < 100):\n",
    "    print(\"Grade A+\")\n",
    "elif(percentage > 70 and percentage < 80):\n",
    "    print(\"Grade A\")\n",
    "elif(percentage > 60 and percentage < 70):\n",
    "    print(\"Grade B\")\n",
    "elif(percentage > 50 and percentage < 60):\n",
    "    print(\"Grade C\")\n",
    "elif(percentage > 40 and percentage < 50):\n",
    "    print(\"Grade D\")\n",
    "elif(percentage > 30 and percentage < 40):\n",
    "    print(\"Failed\")"
   ]
  },
  {
   "cell_type": "code",
   "execution_count": 2,
   "id": "bc384ed7",
   "metadata": {},
   "outputs": [
    {
     "name": "stdout",
     "output_type": "stream",
     "text": [
      "Enter Age18\n",
      "Enter Gendermale\n",
      "Don't Allow\n"
     ]
    }
   ],
   "source": [
    "age = int(input(\"Enter Age\"));\n",
    "gender = input(\"Enter Gender\")\n",
    "if age > 18 and gender == \"male\":\n",
    "    print(\"Allow\");\n",
    "else:\n",
    "    print(\"Don't Allow\")"
   ]
  },
  {
   "cell_type": "code",
   "execution_count": 3,
   "id": "9cd00afd",
   "metadata": {},
   "outputs": [
    {
     "ename": "NameError",
     "evalue": "name 'Sheery' is not defined",
     "output_type": "error",
     "traceback": [
      "\u001b[1;31m---------------------------------------------------------------------------\u001b[0m",
      "\u001b[1;31mNameError\u001b[0m                                 Traceback (most recent call last)",
      "\u001b[1;32m<ipython-input-3-aae83869eef7>\u001b[0m in \u001b[0;36m<module>\u001b[1;34m\u001b[0m\n\u001b[1;32m----> 1\u001b[1;33m \u001b[0mname1\u001b[0m \u001b[1;33m=\u001b[0m \u001b[0mSheery\u001b[0m\u001b[1;33m;\u001b[0m\u001b[1;33m\u001b[0m\u001b[1;33m\u001b[0m\u001b[0m\n\u001b[0m\u001b[0;32m      2\u001b[0m \u001b[0mname2\u001b[0m \u001b[1;33m=\u001b[0m \u001b[0mDanish\u001b[0m\u001b[1;33m;\u001b[0m\u001b[1;33m\u001b[0m\u001b[1;33m\u001b[0m\u001b[0m\n\u001b[0;32m      3\u001b[0m \u001b[0mname3\u001b[0m \u001b[1;33m=\u001b[0m \u001b[0mTalha\u001b[0m\u001b[1;33m;\u001b[0m\u001b[1;33m\u001b[0m\u001b[1;33m\u001b[0m\u001b[0m\n\u001b[0;32m      4\u001b[0m \u001b[0mname4\u001b[0m \u001b[1;33m=\u001b[0m \u001b[0mHamza\u001b[0m\u001b[1;33m;\u001b[0m\u001b[1;33m\u001b[0m\u001b[1;33m\u001b[0m\u001b[0m\n\u001b[0;32m      5\u001b[0m \u001b[0mname5\u001b[0m \u001b[1;33m=\u001b[0m \u001b[0mQadeer\u001b[0m\u001b[1;33m;\u001b[0m\u001b[1;33m\u001b[0m\u001b[1;33m\u001b[0m\u001b[0m\n",
      "\u001b[1;31mNameError\u001b[0m: name 'Sheery' is not defined"
     ]
    }
   ],
   "source": [
    "name1 = Sheery;\n",
    "name2 = Danish;\n",
    "name3 = Talha;\n",
    "name4 = Hamza;\n",
    "name5 = Qadeer;\n",
    "name6 = Ali;\n",
    "print(name1+\",\"+name2+\",\"+name3+\",\"+name4+\",\"+name5+\",\"+name6)"
   ]
  },
  {
   "cell_type": "code",
   "execution_count": null,
   "id": "f1b96e1a",
   "metadata": {},
   "outputs": [],
   "source": []
  }
 ],
 "metadata": {
  "kernelspec": {
   "display_name": "Python 3",
   "language": "python",
   "name": "python3"
  },
  "language_info": {
   "codemirror_mode": {
    "name": "ipython",
    "version": 3
   },
   "file_extension": ".py",
   "mimetype": "text/x-python",
   "name": "python",
   "nbconvert_exporter": "python",
   "pygments_lexer": "ipython3",
   "version": "3.8.8"
  }
 },
 "nbformat": 4,
 "nbformat_minor": 5
}
